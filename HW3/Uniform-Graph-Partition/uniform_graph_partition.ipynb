{
 "cells": [
  {
   "cell_type": "code",
   "execution_count": 1,
   "outputs": [],
   "source": [
    "import numpy as np\n",
    "import matplotlib.pyplot as plt\n",
    "\n",
    "%matplotlib inline"
   ],
   "metadata": {
    "collapsed": false,
    "pycharm": {
     "name": "#%%\n"
    }
   }
  },
  {
   "cell_type": "code",
   "execution_count": 2,
   "outputs": [],
   "source": [
    "n = 50      # number of nodes = 2 * n\n",
    "low = 1\n",
    "high = 100\n",
    "max_steps = 10000"
   ],
   "metadata": {
    "collapsed": false,
    "pycharm": {
     "name": "#%%\n"
    }
   }
  },
  {
   "cell_type": "code",
   "execution_count": 3,
   "outputs": [],
   "source": [
    "adj = np.zeros((2*n,2*n),dtype=int)    # adjacent matrix of graph with 2n nodes\n",
    "for i in range(2*n):\n",
    "    for j in range(i+1,2*n):\n",
    "        r = np.random.randint(low=low,high=high)\n",
    "        adj[i,j] = r\n",
    "        adj[j,i] = r"
   ],
   "metadata": {
    "collapsed": false,
    "pycharm": {
     "name": "#%%\n"
    }
   }
  },
  {
   "cell_type": "code",
   "execution_count": 4,
   "outputs": [],
   "source": [
    "try_times = 10\n",
    "cost = [[]] * try_times\n",
    "for t in range(try_times):\n",
    "\n",
    "    solution = np.concatenate((np.zeros(n),np.ones(n))).astype(int)\n",
    "    np.random.shuffle(solution)\n",
    "    part1 = np.nonzero(solution)[0]    # index of part 1\n",
    "    part0 = np.nonzero(1-solution)[0]\n",
    "    cost[t] = [adj[part1,:][:,part0].sum()]\n",
    "\n",
    "    for step in range(max_steps):\n",
    "        u = np.random.choice(part0)\n",
    "        v = np.random.choice(part1)\n",
    "        delta = adj[u,part0].sum() + adj[v,part1].sum() \\\n",
    "                - adj[u,part1].sum() - adj[v,part0].sum() + 2 * adj[u,v]\n",
    "        if delta < 0:   # update solution\n",
    "            solution[u] = 1 - solution[u]\n",
    "            solution[v] = 1 - solution[v]\n",
    "            part1 = np.nonzero(solution)[0]\n",
    "            part0 = np.nonzero(1-solution)[0]\n",
    "            cost[t].append(cost[t][-1] + delta)\n",
    "        else:\n",
    "            cost[t].append(cost[t][-1])"
   ],
   "metadata": {
    "collapsed": false,
    "pycharm": {
     "name": "#%%\n"
    }
   }
  },
  {
   "cell_type": "code",
   "execution_count": 5,
   "outputs": [],
   "source": [
    "try_times = 10\n",
    "T = 500     # initial temperature\n",
    "decay_rate = 0.999\n",
    "cost_sa = [[]] * try_times\n",
    "for t in range(try_times):\n",
    "\n",
    "    solution = np.concatenate((np.zeros(n),np.ones(n))).astype(int)\n",
    "    np.random.shuffle(solution)\n",
    "    part1 = np.nonzero(solution)[0]    # index of part 1\n",
    "    part0 = np.nonzero(1-solution)[0]\n",
    "    cost_sa[t] = [adj[part1,:][:,part0].sum()]\n",
    "\n",
    "    for step in range(max_steps):\n",
    "        u = np.random.choice(part0)\n",
    "        v = np.random.choice(part1)\n",
    "        delta = adj[u,part0].sum() + adj[v,part1].sum() \\\n",
    "                - adj[u,part1].sum() - adj[v,part0].sum() + 2 * adj[u,v]\n",
    "        if delta < 0 or np.random.random() < np.exp(-1*delta/T):   # update solution\n",
    "            solution[u] = 1 - solution[u]\n",
    "            solution[v] = 1 - solution[v]\n",
    "            part1 = np.nonzero(solution)[0]\n",
    "            part0 = np.nonzero(1-solution)[0]\n",
    "            cost_sa[t].append(cost_sa[t][-1] + delta)\n",
    "            T *= decay_rate\n",
    "        else:\n",
    "            cost_sa[t].append(cost_sa[t][-1])\n",
    "            T *= decay_rate"
   ],
   "metadata": {
    "collapsed": false,
    "pycharm": {
     "name": "#%%\n"
    }
   }
  },
  {
   "cell_type": "code",
   "execution_count": 7,
   "outputs": [
    {
     "data": {
      "text/plain": "<Figure size 432x288 with 1 Axes>",
      "image/png": "[encoded data removed]"
     },
     "metadata": {
      "needs_background": "light"
     },
     "output_type": "display_data"
    }
   ],
   "source": [
    "plt.figure()\n",
    "for t in range(try_times):\n",
    "    l1, = plt.plot(cost_sa[t],'b')\n",
    "for t in range(try_times):\n",
    "    l2, = plt.plot(cost[t],'r')\n",
    "plt.legend(handles=[l1,l2], labels=['SA','Not SA'])\n",
    "plt.xlabel(\"Steps\")\n",
    "plt.ylabel(\"Cost\")\n",
    "plt.savefig(\"./figs/graph_partition_\"+str(2*n))"
   ],
   "metadata": {
    "collapsed": false,
    "pycharm": {
     "name": "#%%\n"
    }
   }
  },
  {
   "cell_type": "code",
   "execution_count": 6,
   "outputs": [],
   "source": [],
   "metadata": {
    "collapsed": false,
    "pycharm": {
     "name": "#%%\n"
    }
   }
  }
 ],
 "metadata": {
  "kernelspec": {
   "display_name": "Python 3",
   "language": "python",
   "name": "python3"
  },
  "language_info": {
   "codemirror_mode": {
    "name": "ipython",
    "version": 2
   },
   "file_extension": ".py",
   "mimetype": "text/x-python",
   "name": "python",
   "nbconvert_exporter": "python",
   "pygments_lexer": "ipython2",
   "version": "2.7.6"
  }
 },
 "nbformat": 4,
 "nbformat_minor": 0
}