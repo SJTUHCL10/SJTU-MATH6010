{
 "cells": [
  {
   "cell_type": "code",
   "execution_count": 8,
   "metadata": {
    "collapsed": true
   },
   "outputs": [],
   "source": [
    "import numpy as np\n",
    "import matplotlib.pyplot as plt\n",
    "\n",
    "%matplotlib inline"
   ]
  },
  {
   "cell_type": "code",
   "execution_count": 9,
   "outputs": [],
   "source": [
    "v = 99  # STS(v) v = 1 or 3 (mod 6)\n",
    "num_tri = round( v * (v-1) / 6 )     # |B|\n",
    "max_times = round( (v - 1) / 2 )\n",
    "times = np.zeros(v, dtype=int)\n",
    "B = []"
   ],
   "metadata": {
    "collapsed": false,
    "pycharm": {
     "name": "#%%\n"
    }
   }
  },
  {
   "cell_type": "code",
   "execution_count": 10,
   "outputs": [],
   "source": [
    "def get_living_pairs(i, B=B, v=v):\n",
    "    candidates = np.ones(v, dtype=int)\n",
    "    for triple in B:\n",
    "        if i in triple:\n",
    "            candidates[triple[0]] = 0\n",
    "            candidates[triple[1]] = 0\n",
    "            candidates[triple[2]] = 0\n",
    "        else:\n",
    "            pass\n",
    "\n",
    "    return candidates.nonzero()[0]"
   ],
   "metadata": {
    "collapsed": false,
    "pycharm": {
     "name": "#%%\n"
    }
   }
  },
  {
   "cell_type": "code",
   "execution_count": 11,
   "outputs": [],
   "source": [
    "size_steps = [0]\n",
    "while len(B) < num_tri:\n",
    "    living_points = times < max_times\n",
    "    i = np.random.choice(np.nonzero(living_points)[0])\n",
    "    living_pairs = get_living_pairs(i, B, v)\n",
    "    new_pairs = np.random.choice(living_pairs,size=2,replace=False)\n",
    "\n",
    "    for triple in B:\n",
    "        if new_pairs[0] in triple and new_pairs[1] in triple:\n",
    "            B.remove(triple)\n",
    "            for j in triple:\n",
    "                times[j] -= 1\n",
    "\n",
    "    new_triple = [i,new_pairs[0],new_pairs[1]]\n",
    "    B.append(new_triple)\n",
    "    for j in new_triple:\n",
    "        times[j] += 1\n",
    "\n",
    "    size_steps.append(len(B))"
   ],
   "metadata": {
    "collapsed": false,
    "pycharm": {
     "name": "#%%\n"
    }
   }
  },
  {
   "cell_type": "code",
   "execution_count": 12,
   "outputs": [
    {
     "data": {
      "text/plain": "[[8, 96, 84],\n [8, 35, 4],\n [49, 14, 84],\n [86, 62, 39],\n [46, 33, 93],\n [22, 17, 15],\n [81, 27, 43],\n [41, 9, 47],\n [97, 61, 77],\n [73, 11, 89],\n [51, 17, 23],\n [22, 79, 73],\n [8, 15, 40],\n [16, 24, 25],\n [19, 51, 55],\n [6, 68, 51],\n [25, 57, 92],\n [30, 17, 95],\n [66, 24, 30],\n [55, 83, 17],\n [53, 20, 4],\n [97, 19, 29],\n [56, 4, 92],\n [24, 91, 26],\n [55, 25, 4],\n [14, 19, 98],\n [70, 92, 97],\n [4, 68, 11],\n [30, 43, 0],\n [73, 26, 15],\n [28, 36, 72],\n [69, 93, 62],\n [1, 30, 86],\n [6, 46, 98],\n [8, 27, 0],\n [97, 68, 22],\n [93, 88, 30],\n [23, 55, 89],\n [84, 16, 27],\n [75, 16, 21],\n [59, 44, 24],\n [31, 30, 91],\n [41, 30, 80],\n [59, 4, 2],\n [7, 98, 56],\n [1, 92, 2],\n [79, 14, 18],\n [10, 14, 55],\n [92, 69, 30],\n [58, 30, 71],\n [36, 78, 92],\n [25, 13, 77],\n [75, 33, 43],\n [51, 0, 54],\n [17, 89, 36],\n [59, 39, 32],\n [16, 0, 4],\n [0, 28, 26],\n [90, 15, 34],\n [80, 59, 34],\n [21, 27, 54],\n [64, 8, 43],\n [15, 4, 6],\n [84, 47, 51],\n [87, 94, 91],\n [67, 95, 84],\n [77, 30, 56],\n [98, 9, 32],\n [27, 55, 73],\n [74, 6, 36],\n [98, 95, 31],\n [86, 34, 13],\n [65, 98, 52],\n [66, 27, 91],\n [65, 27, 32],\n [0, 20, 58],\n [87, 84, 33],\n [54, 4, 45],\n [7, 90, 62],\n [27, 51, 1],\n [85, 56, 31],\n [58, 5, 84],\n [14, 34, 39],\n [70, 20, 55],\n [84, 6, 97],\n [89, 14, 87],\n [61, 6, 22],\n [82, 30, 98],\n [95, 43, 73],\n [34, 76, 3],\n [35, 43, 25],\n [26, 78, 80],\n [31, 80, 67],\n [66, 15, 71],\n [84, 59, 31],\n [12, 61, 28],\n [55, 57, 52],\n [59, 75, 55],\n [92, 95, 6],\n [24, 51, 13],\n [95, 42, 65],\n [31, 41, 11],\n [84, 30, 22],\n [8, 93, 5],\n [89, 56, 68],\n [3, 14, 30],\n [30, 94, 16],\n [17, 70, 73],\n [73, 9, 24],\n [89, 85, 30],\n [56, 64, 72],\n [51, 57, 67],\n [28, 24, 40],\n [56, 43, 91],\n [89, 98, 15],\n [33, 7, 9],\n [24, 76, 90],\n [44, 93, 75],\n [5, 63, 16],\n [4, 42, 78],\n [88, 31, 6],\n [16, 44, 40],\n [18, 0, 75],\n [28, 9, 31],\n [35, 29, 87],\n [10, 48, 16],\n [6, 71, 60],\n [35, 79, 83],\n [34, 27, 36],\n [22, 29, 54],\n [57, 34, 44],\n [34, 93, 7],\n [13, 76, 49],\n [9, 27, 30],\n [16, 31, 81],\n [69, 24, 65],\n [59, 49, 71],\n [70, 16, 41],\n [7, 61, 43],\n [89, 25, 20],\n [98, 85, 77],\n [91, 80, 12],\n [84, 53, 92],\n [75, 63, 67],\n [43, 38, 6],\n [62, 24, 53],\n [17, 28, 27],\n [75, 96, 56],\n [6, 2, 52],\n [85, 0, 71],\n [75, 52, 95],\n [98, 33, 55],\n [71, 62, 4],\n [5, 88, 80],\n [93, 74, 54],\n [21, 7, 17],\n [30, 33, 4],\n [86, 92, 8],\n [16, 26, 74],\n [80, 65, 50],\n [20, 84, 35],\n [70, 42, 14],\n [45, 63, 30],\n [82, 52, 92],\n [13, 16, 43],\n [50, 54, 84],\n [74, 75, 24],\n [98, 44, 12],\n [51, 35, 56],\n [70, 49, 75],\n [85, 43, 24],\n [24, 39, 19],\n [65, 78, 72],\n [57, 71, 77],\n [6, 87, 85],\n [88, 81, 14],\n [35, 74, 42],\n [24, 27, 12],\n [62, 49, 95],\n [68, 27, 85],\n [98, 59, 61],\n [98, 35, 5],\n [95, 82, 28],\n [18, 27, 95],\n [48, 75, 9],\n [71, 89, 65],\n [98, 91, 97],\n [8, 54, 75],\n [28, 16, 2],\n [51, 79, 65],\n [80, 13, 3],\n [90, 95, 83],\n [66, 64, 1],\n [22, 28, 75],\n [80, 42, 10],\n [98, 62, 64],\n [75, 5, 41],\n [87, 58, 17],\n [74, 44, 23],\n [68, 96, 1],\n [55, 26, 43],\n [45, 34, 75],\n [67, 17, 97],\n [5, 60, 89],\n [0, 7, 15],\n [98, 16, 47],\n [75, 42, 57],\n [93, 82, 10],\n [13, 21, 72],\n [89, 81, 57],\n [35, 90, 33],\n [27, 48, 4],\n [17, 13, 31],\n [97, 90, 0],\n [49, 7, 19],\n [93, 50, 4],\n [56, 15, 39],\n [93, 67, 76],\n [59, 33, 66],\n [80, 74, 8],\n [4, 36, 7],\n [65, 14, 61],\n [49, 35, 34],\n [76, 97, 27],\n [32, 17, 3],\n [93, 72, 6],\n [90, 12, 25],\n [46, 80, 66],\n [29, 86, 12],\n [13, 4, 28],\n [64, 26, 67],\n [93, 2, 63],\n [52, 50, 68],\n [79, 27, 3],\n [90, 39, 52],\n [92, 29, 11],\n [80, 24, 97],\n [24, 61, 71],\n [98, 28, 92],\n [63, 70, 79],\n [20, 31, 7],\n [92, 27, 15],\n [79, 33, 56],\n [17, 92, 9],\n [44, 91, 7],\n [32, 79, 71],\n [92, 21, 39],\n [51, 62, 15],\n [92, 31, 14],\n [27, 2, 19],\n [8, 14, 69],\n [50, 22, 18],\n [50, 19, 3],\n [93, 25, 95],\n [39, 97, 26],\n [27, 42, 39],\n [58, 12, 75],\n [88, 15, 20],\n [70, 71, 10],\n [65, 58, 96],\n [98, 54, 58],\n [24, 84, 4],\n [93, 31, 24],\n [90, 88, 8],\n [16, 15, 67],\n [31, 3, 78],\n [78, 75, 20],\n [35, 61, 85],\n [20, 24, 49],\n [14, 13, 36],\n [84, 75, 13],\n [4, 3, 39],\n [57, 61, 39],\n [84, 61, 36],\n [51, 16, 58],\n [28, 55, 29],\n [24, 67, 96],\n [86, 64, 54],\n [39, 84, 18],\n [84, 64, 81],\n [27, 75, 14],\n [92, 76, 43],\n [73, 65, 84],\n [59, 91, 74],\n [93, 78, 58],\n [27, 78, 98],\n [74, 5, 73],\n [4, 1, 31],\n [59, 9, 79],\n [17, 80, 16],\n [43, 10, 72],\n [74, 56, 22],\n [13, 5, 64],\n [7, 96, 57],\n [42, 64, 9],\n [48, 95, 26],\n [39, 67, 94],\n [29, 85, 58],\n [95, 12, 81],\n [85, 62, 26],\n [7, 94, 29],\n [81, 53, 52],\n [46, 90, 18],\n [51, 36, 63],\n [73, 16, 59],\n [36, 88, 50],\n [42, 18, 91],\n [57, 58, 41],\n [36, 62, 76],\n [50, 67, 73],\n [45, 19, 43],\n [92, 71, 12],\n [26, 31, 29],\n [5, 26, 40],\n [21, 93, 79],\n [95, 32, 8],\n [43, 77, 58],\n [25, 9, 97],\n [59, 36, 29],\n [12, 16, 35],\n [68, 70, 93],\n [78, 7, 71],\n [4, 12, 43],\n [20, 39, 64],\n [91, 85, 19],\n [97, 51, 44],\n [92, 26, 60],\n [26, 58, 4],\n [93, 66, 55],\n [71, 17, 50],\n [97, 3, 58],\n [24, 32, 6],\n [82, 96, 13],\n [75, 62, 60],\n [65, 90, 28],\n [11, 18, 58],\n [75, 61, 46],\n [69, 71, 3],\n [13, 68, 59],\n [82, 3, 25],\n [45, 29, 91],\n [67, 1, 88],\n [16, 34, 89],\n [12, 33, 15],\n [7, 48, 25],\n [92, 89, 80],\n [85, 59, 3],\n [46, 11, 79],\n [41, 73, 96],\n [8, 76, 56],\n [9, 15, 80],\n [76, 94, 65],\n [17, 48, 2],\n [8, 36, 66],\n [30, 13, 40],\n [95, 39, 80],\n [12, 41, 50],\n [28, 11, 71],\n [59, 18, 60],\n [76, 10, 4],\n [71, 98, 13],\n [41, 18, 92],\n [19, 65, 6],\n [97, 89, 1],\n [43, 50, 5],\n [10, 88, 46],\n [4, 60, 73],\n [76, 30, 50],\n [35, 36, 93],\n [16, 91, 33],\n [75, 3, 6],\n [49, 56, 86],\n [55, 35, 1],\n [17, 66, 43],\n [6, 80, 96],\n [91, 89, 64],\n [25, 0, 86],\n [25, 31, 5],\n [51, 28, 41],\n [48, 73, 97],\n [66, 89, 6],\n [17, 49, 74],\n [40, 34, 94],\n [30, 18, 32],\n [44, 49, 80],\n [31, 34, 58],\n [27, 60, 90],\n [75, 65, 39],\n [86, 35, 9],\n [90, 54, 66],\n [63, 73, 88],\n [17, 4, 44],\n [7, 3, 28],\n [36, 83, 33],\n [70, 2, 62],\n [35, 11, 60],\n [48, 50, 11],\n [66, 70, 3],\n [9, 11, 65],\n [66, 34, 96],\n [45, 23, 25],\n [25, 67, 85],\n [14, 23, 82],\n [6, 94, 58],\n [48, 91, 3],\n [5, 54, 15],\n [46, 50, 7],\n [16, 90, 50],\n [90, 91, 2],\n [39, 13, 85],\n [93, 65, 13],\n [48, 39, 5],\n [4, 67, 41],\n [23, 80, 54],\n [59, 82, 15],\n [65, 56, 36],\n [35, 89, 62],\n [95, 13, 41],\n [8, 13, 70],\n [49, 73, 52],\n [74, 87, 55],\n [16, 32, 57],\n [4, 9, 66],\n [44, 19, 96],\n [7, 26, 23],\n [75, 15, 2],\n [13, 26, 2],\n [85, 1, 90],\n [5, 56, 2],\n [89, 7, 53],\n [52, 69, 83],\n [98, 48, 0],\n [75, 91, 17],\n [1, 54, 3],\n [13, 90, 63],\n [88, 91, 95],\n [92, 58, 19],\n [25, 6, 81],\n [53, 32, 21],\n [48, 62, 96],\n [95, 4, 96],\n [79, 41, 49],\n [61, 89, 18],\n [39, 8, 83],\n [96, 97, 5],\n [52, 51, 5],\n [69, 11, 78],\n [89, 96, 26],\n [23, 64, 65],\n [82, 6, 9],\n [69, 54, 94],\n [81, 0, 9],\n [14, 4, 57],\n [56, 3, 95],\n [76, 72, 68],\n [65, 81, 85],\n [55, 50, 63],\n [51, 88, 60],\n [23, 73, 90],\n [71, 64, 95],\n [81, 26, 18],\n [50, 62, 9],\n [41, 85, 72],\n [85, 46, 36],\n [35, 96, 69],\n [51, 18, 3],\n [88, 86, 28],\n [54, 13, 83],\n [56, 23, 81],\n [5, 17, 81],\n [89, 45, 32],\n [7, 59, 69],\n [25, 64, 68],\n [54, 30, 12],\n [32, 28, 96],\n [17, 10, 0],\n [55, 6, 86],\n [18, 13, 9],\n [90, 44, 86],\n [53, 9, 5],\n [82, 32, 43],\n [66, 73, 85],\n [43, 3, 68],\n [4, 90, 49],\n [2, 83, 84],\n [73, 33, 54],\n [29, 52, 9],\n [70, 84, 9],\n [76, 58, 83],\n [45, 12, 78],\n [57, 60, 12],\n [46, 19, 13],\n [45, 55, 2],\n [64, 45, 58],\n [39, 55, 11],\n [34, 9, 12],\n [36, 31, 15],\n [74, 89, 9],\n [63, 87, 12],\n [20, 59, 43],\n [74, 46, 60],\n [25, 8, 18],\n [86, 36, 91],\n [52, 89, 76],\n [82, 18, 97],\n [47, 46, 65],\n [95, 10, 19],\n [86, 26, 42],\n [96, 25, 83],\n [89, 59, 95],\n [26, 3, 77],\n [73, 19, 81],\n [9, 60, 44],\n [95, 15, 61],\n [43, 21, 36],\n [3, 24, 5],\n [30, 8, 55],\n [41, 10, 23],\n [89, 12, 13],\n [72, 12, 42],\n [71, 88, 9],\n [92, 37, 33],\n [3, 55, 12],\n [75, 76, 77],\n [79, 8, 72],\n [66, 87, 65],\n [63, 60, 15],\n [23, 57, 5],\n [57, 93, 48],\n [9, 90, 36],\n [43, 9, 46],\n [25, 34, 53],\n [98, 42, 17],\n [94, 9, 26],\n [24, 42, 2],\n [23, 52, 13],\n [53, 6, 78],\n [48, 12, 32],\n [46, 54, 89],\n [94, 61, 55],\n [54, 82, 60],\n [48, 8, 85],\n [7, 76, 18],\n [77, 72, 60],\n [59, 6, 47],\n [70, 46, 30],\n [80, 55, 56],\n [12, 59, 67],\n [15, 81, 83],\n [72, 50, 98],\n [95, 34, 0],\n [23, 98, 94],\n [28, 76, 81],\n [14, 52, 33],\n [17, 84, 62],\n [0, 52, 93],\n [13, 81, 50],\n [89, 24, 8],\n [85, 51, 83],\n [29, 60, 95],\n [55, 22, 58],\n [61, 58, 82],\n [60, 58, 56],\n [58, 44, 36],\n [42, 54, 48],\n [5, 90, 94],\n [12, 70, 21],\n [69, 72, 31],\n [20, 57, 13],\n [97, 34, 60],\n [4, 18, 83],\n [13, 42, 38],\n [70, 31, 23],\n [96, 85, 53],\n [95, 2, 69],\n [17, 11, 52],\n [84, 34, 52],\n [10, 75, 87],\n [77, 33, 50],\n [98, 36, 24],\n [33, 3, 57],\n [17, 41, 61],\n [57, 0, 78],\n [55, 9, 76],\n [22, 87, 31],\n [90, 32, 77],\n [72, 26, 71],\n [96, 77, 27],\n [17, 96, 59],\n [11, 15, 85],\n [4, 40, 89],\n [42, 50, 31],\n [22, 34, 46],\n [72, 34, 30],\n [71, 83, 31],\n [67, 18, 34],\n [89, 27, 94],\n [74, 84, 77],\n [23, 38, 85],\n [36, 97, 41],\n [34, 70, 5],\n [32, 84, 63],\n [6, 57, 73],\n [14, 59, 0],\n [57, 80, 28],\n [7, 63, 39],\n [84, 56, 88],\n [92, 16, 61],\n [89, 77, 93],\n [56, 34, 54],\n [57, 8, 47],\n [61, 96, 9],\n [28, 33, 18],\n [85, 84, 28],\n [5, 36, 18],\n [94, 36, 75],\n [3, 87, 81],\n [58, 69, 9],\n [88, 39, 17],\n [97, 30, 49],\n [17, 40, 45],\n [16, 1, 82],\n [9, 40, 1],\n [88, 54, 77],\n [22, 80, 83],\n [77, 34, 6],\n [56, 87, 25],\n [23, 84, 12],\n [4, 87, 98],\n [84, 19, 76],\n [89, 49, 21],\n [30, 26, 37],\n [8, 68, 28],\n [51, 30, 81],\n [44, 62, 11],\n [34, 42, 68],\n [0, 6, 63],\n [57, 40, 31],\n [32, 25, 22],\n [50, 26, 59],\n [19, 63, 62],\n [72, 17, 82],\n [7, 54, 70],\n [54, 17, 6],\n [78, 81, 10],\n [33, 78, 17],\n [65, 26, 1],\n [50, 87, 49],\n [57, 49, 38],\n [93, 59, 81],\n [6, 35, 39],\n [3, 40, 20],\n [65, 59, 45],\n [10, 59, 28],\n [85, 33, 49],\n [64, 28, 87],\n [45, 39, 93],\n [8, 31, 77],\n [6, 8, 49],\n [77, 7, 68],\n [63, 34, 81],\n [2, 12, 46],\n [19, 38, 4],\n [17, 19, 35],\n [46, 17, 56],\n [59, 11, 8],\n [55, 68, 36],\n [11, 20, 33],\n [23, 22, 35],\n [12, 1, 22],\n [63, 40, 85],\n [85, 52, 54],\n [85, 9, 37],\n [61, 62, 30],\n [95, 9, 38],\n [8, 21, 33],\n [55, 81, 7],\n [30, 57, 68],\n [9, 39, 68],\n [67, 78, 14],\n [17, 86, 85],\n [11, 19, 34],\n [0, 49, 47],\n [22, 47, 48],\n [74, 76, 57],\n [31, 60, 76],\n [88, 94, 35],\n [36, 49, 82],\n [52, 43, 31],\n [56, 21, 47],\n [77, 24, 17],\n [81, 36, 80],\n [61, 54, 2],\n [32, 73, 0],\n [36, 96, 30],\n [26, 82, 46],\n [33, 47, 61],\n [4, 85, 47],\n [75, 1, 81],\n [16, 76, 39],\n [1, 59, 38],\n [72, 80, 52],\n [84, 29, 68],\n [80, 14, 7],\n [54, 35, 68],\n [6, 69, 42],\n [78, 59, 86],\n [16, 60, 83],\n [62, 1, 34],\n [69, 33, 39],\n [95, 68, 47],\n [32, 5, 87],\n [61, 48, 23],\n [39, 44, 31],\n [31, 46, 21],\n [5, 62, 42],\n [32, 60, 20],\n [54, 57, 43],\n [49, 93, 28],\n [35, 47, 58],\n [7, 52, 40],\n [31, 68, 33],\n [63, 38, 20],\n [1, 14, 93],\n [7, 84, 60],\n [93, 42, 60],\n [83, 68, 82],\n [71, 23, 37],\n [17, 34, 47],\n [90, 68, 79],\n [14, 48, 38],\n [36, 60, 87],\n [87, 59, 76],\n [4, 86, 5],\n [84, 38, 45],\n [87, 0, 11],\n [83, 21, 26],\n [59, 23, 63],\n [67, 35, 71],\n [40, 53, 93],\n [86, 69, 97],\n [23, 4, 46],\n [26, 34, 88],\n [55, 60, 85],\n [35, 28, 38],\n [0, 2, 60],\n [60, 81, 48],\n [62, 81, 33],\n [90, 6, 14],\n [6, 76, 11],\n [80, 60, 79],\n [83, 56, 11],\n [63, 8, 3],\n [45, 42, 28],\n [49, 29, 25],\n [6, 21, 23],\n [7, 73, 13],\n [81, 97, 20],\n [68, 87, 69],\n [59, 21, 97],\n [87, 8, 26],\n [77, 5, 12],\n [2, 96, 37],\n [80, 20, 1],\n [30, 20, 79],\n [2, 31, 94],\n [16, 3, 29],\n [96, 91, 60],\n [55, 0, 79],\n [28, 78, 44],\n [31, 37, 51],\n [12, 82, 76],\n [3, 2, 44],\n [28, 97, 56],\n [80, 76, 85],\n [27, 80, 38],\n [26, 44, 69],\n [25, 10, 39],\n [11, 37, 80],\n [63, 4, 37],\n [80, 21, 98],\n [98, 38, 3],\n [57, 36, 69],\n [8, 20, 61],\n [98, 25, 41],\n [89, 31, 48],\n [73, 2, 82],\n [62, 91, 8],\n [34, 79, 64],\n [7, 8, 97],\n [31, 82, 65],\n [12, 69, 85],\n [91, 82, 50],\n [39, 12, 73],\n [85, 22, 14],\n [0, 88, 68],\n [8, 52, 41],\n [89, 82, 63],\n [4, 69, 64],\n [52, 97, 46],\n [16, 69, 46],\n [88, 37, 41],\n [81, 91, 61],\n [77, 47, 52],\n [32, 69, 23],\n [80, 63, 25],\n [17, 68, 20],\n [17, 1, 69],\n [67, 38, 5],\n [80, 40, 2],\n [88, 64, 21],\n [1, 7, 47],\n [24, 34, 82],\n [16, 97, 64],\n [32, 58, 50],\n [15, 64, 14],\n [25, 1, 44],\n [8, 1, 71],\n [8, 44, 82],\n [20, 29, 5],\n [14, 40, 77],\n [25, 76, 46],\n [35, 45, 82],\n [13, 44, 48],\n [22, 69, 38],\n [12, 93, 47],\n [77, 18, 55],\n [91, 92, 34],\n [68, 63, 92],\n [79, 61, 4],\n [56, 14, 12],\n [69, 55, 13],\n [42, 58, 66],\n [28, 14, 5],\n [69, 47, 37],\n [48, 33, 82],\n [34, 21, 4],\n [21, 5, 1],\n [7, 38, 92],\n [63, 14, 71],\n [17, 14, 29],\n [10, 5, 92],\n [52, 1, 60],\n [92, 44, 50],\n [2, 7, 35],\n [65, 48, 20],\n [59, 37, 5],\n [48, 34, 55],\n [36, 20, 12],\n [70, 51, 64],\n [5, 61, 11],\n [33, 44, 5],\n [73, 14, 44],\n [10, 12, 40],\n [74, 14, 45],\n [51, 29, 93],\n [50, 56, 1],\n [55, 21, 71],\n [56, 44, 29],\n [47, 92, 20],\n [91, 55, 40],\n [34, 71, 20],\n [44, 77, 20],\n [92, 62, 66],\n [77, 62, 21],\n [46, 41, 14],\n [86, 38, 58],\n [20, 62, 73],\n [8, 34, 29],\n [14, 32, 35],\n [82, 20, 37],\n [45, 26, 36],\n [73, 38, 56],\n [58, 7, 72],\n [34, 61, 50],\n [55, 64, 47],\n [85, 5, 45],\n [5, 47, 82],\n [14, 76, 91],\n [56, 40, 37],\n [32, 47, 80],\n [5, 91, 0],\n [72, 15, 38],\n [66, 44, 72],\n [20, 6, 16],\n [72, 53, 22],\n [13, 47, 91],\n [80, 35, 75],\n [78, 82, 66],\n [29, 61, 66],\n [6, 48, 45],\n [85, 50, 20],\n [35, 26, 41],\n [20, 69, 21],\n [11, 30, 75],\n [16, 45, 71],\n [32, 41, 29],\n [41, 7, 6],\n [75, 47, 26],\n [62, 29, 79],\n [26, 14, 53],\n [39, 38, 91],\n [37, 12, 52],\n [52, 26, 79],\n [5, 79, 66],\n [95, 76, 1],\n [44, 0, 84],\n [76, 61, 37],\n [93, 41, 64],\n [91, 21, 35],\n [35, 76, 44],\n [28, 60, 69],\n [11, 14, 97],\n [40, 54, 41],\n [76, 66, 41],\n [56, 41, 71],\n [26, 70, 38],\n [69, 0, 82],\n [61, 60, 25],\n [78, 30, 38],\n [57, 11, 88],\n [18, 47, 38],\n [75, 66, 25],\n [25, 50, 38],\n [91, 53, 71],\n [64, 80, 61],\n [66, 84, 26],\n [11, 12, 38],\n [6, 1, 10],\n [50, 60, 66],\n [23, 66, 47],\n [34, 38, 83],\n [6, 26, 56],\n [21, 38, 60],\n [36, 52, 48],\n [14, 60, 47],\n [21, 52, 44],\n [21, 0, 76],\n [44, 53, 41],\n [52, 15, 70],\n [67, 0, 74],\n [76, 64, 22],\n [47, 74, 79],\n [41, 0, 24],\n [60, 39, 30],\n [30, 59, 83],\n [30, 74, 10],\n [44, 22, 71],\n [50, 10, 69],\n [22, 5, 7],\n [52, 64, 59],\n [84, 98, 69],\n [98, 34, 74],\n [1, 94, 63],\n [69, 34, 73],\n [7, 30, 64],\n [73, 28, 94],\n [56, 70, 0],\n [87, 88, 97],\n [82, 29, 71],\n [30, 5, 6],\n [85, 34, 32],\n [12, 97, 66],\n [49, 53, 27],\n [94, 24, 83],\n [34, 37, 28],\n [27, 5, 69],\n [5, 76, 71],\n [28, 77, 83],\n [76, 69, 40],\n [97, 93, 38],\n [86, 57, 83],\n [16, 68, 53],\n [0, 19, 80],\n [93, 17, 37],\n [37, 98, 8],\n [41, 38, 74],\n [44, 38, 64],\n [38, 96, 51],\n [80, 69, 90],\n [77, 37, 64],\n [87, 46, 38],\n [38, 24, 68],\n [25, 51, 69],\n [52, 45, 66],\n [38, 40, 29],\n [85, 74, 97],\n [32, 31, 64],\n [30, 48, 19],\n [68, 60, 45],\n [76, 48, 53],\n [66, 31, 0],\n [62, 12, 74],\n [0, 64, 12],\n [12, 31, 96],\n [64, 46, 27],\n [69, 48, 56],\n [6, 27, 37],\n [51, 12, 8],\n [35, 64, 24],\n ...]"
     },
     "execution_count": 12,
     "metadata": {},
     "output_type": "execute_result"
    }
   ],
   "source": [
    "B"
   ],
   "metadata": {
    "collapsed": false,
    "pycharm": {
     "name": "#%%\n"
    }
   }
  },
  {
   "cell_type": "code",
   "execution_count": 13,
   "outputs": [
    {
     "data": {
      "text/plain": "<Figure size 432x288 with 1 Axes>",
      "image/png": "[encoded data removed]"
     },
     "metadata": {
      "needs_background": "light"
     },
     "output_type": "display_data"
    }
   ],
   "source": [
    "plt.plot(size_steps)\n",
    "plt.xlabel(\"Steps\")\n",
    "plt.ylabel(\"Size of PSTS(v)\")\n",
    "plt.savefig(\"./figs/STS(v=\"+str(v)+\")\")"
   ],
   "metadata": {
    "collapsed": false,
    "pycharm": {
     "name": "#%%\n"
    }
   }
  },
  {
   "cell_type": "code",
   "execution_count": 13,
   "outputs": [],
   "source": [],
   "metadata": {
    "collapsed": false,
    "pycharm": {
     "name": "#%%\n"
    }
   }
  }
 ],
 "metadata": {
  "kernelspec": {
   "display_name": "Python 3",
   "language": "python",
   "name": "python3"
  },
  "language_info": {
   "codemirror_mode": {
    "name": "ipython",
    "version": 2
   },
   "file_extension": ".py",
   "mimetype": "text/x-python",
   "name": "python",
   "nbconvert_exporter": "python",
   "pygments_lexer": "ipython2",
   "version": "2.7.6"
  }
 },
 "nbformat": 4,
 "nbformat_minor": 0
}