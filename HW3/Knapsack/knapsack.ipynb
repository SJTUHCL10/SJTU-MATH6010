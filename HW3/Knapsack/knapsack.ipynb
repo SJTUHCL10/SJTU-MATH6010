{
 "cells": [
  {
   "cell_type": "code",
   "execution_count": 2,
   "metadata": {
    "collapsed": true
   },
   "outputs": [],
   "source": [
    "import numpy as np\n",
    "import matplotlib.pyplot as plt\n",
    "\n",
    "%matplotlib inline"
   ]
  },
  {
   "cell_type": "code",
   "execution_count": 3,
   "outputs": [],
   "source": [
    "profits = np.array([135,139,149,150,156,163,173,184,192,201,210,214,221,229,240])\n",
    "weights = np.array([70,73,77,80,82,87,90,94,98,106,110,113,115,118,120])\n",
    "capacity = 750"
   ],
   "metadata": {
    "collapsed": false,
    "pycharm": {
     "name": "#%%\n"
    }
   }
  },
  {
   "cell_type": "markdown",
   "source": [
    "## 穷举搜索最优解"
   ],
   "metadata": {
    "collapsed": false,
    "pycharm": {
     "name": "#%% md\n"
    }
   }
  },
  {
   "cell_type": "code",
   "execution_count": 4,
   "outputs": [
    {
     "name": "stdout",
     "output_type": "stream",
     "text": [
      "Best solutions: [1 0 1 0 1 0 1 1 1 0 0 0 0 1 1]\n",
      "Maximum profit: 1458\n",
      "Total weights: 749\n"
     ]
    }
   ],
   "source": [
    "max_profit = 0\n",
    "best_solution = None\n",
    "for i in range(2**15):\n",
    "    s = bin(i)[2:]  # type: string\n",
    "    s = s + '0' * (15 - len(s))     # padding to length=15\n",
    "    solution = np.array(list(s)).astype(int)\n",
    "    w = solution.dot(weights)\n",
    "    if w > capacity:\n",
    "        continue\n",
    "    else:\n",
    "        p = solution.dot(profits)\n",
    "        if p > max_profit:\n",
    "            max_profit = p\n",
    "            best_solution = solution\n",
    "        else:\n",
    "            pass\n",
    "\n",
    "print(\"Best solutions:\", best_solution)\n",
    "print(\"Maximum profit:\", max_profit)\n",
    "print(\"Total weights:\", best_solution.dot(weights))"
   ],
   "metadata": {
    "collapsed": false,
    "pycharm": {
     "name": "#%%\n"
    }
   }
  },
  {
   "cell_type": "markdown",
   "source": [
    "## SA"
   ],
   "metadata": {
    "collapsed": false,
    "pycharm": {
     "name": "#%% md\n"
    }
   }
  },
  {
   "cell_type": "code",
   "execution_count": 5,
   "outputs": [],
   "source": [
    "solution = np.zeros(15,dtype=int)\n",
    "p = 0\n",
    "p_step = [0]\n",
    "max_profit = 0\n",
    "best_solution = None\n",
    "w = 0\n",
    "\n",
    "T = 300\n",
    "decay_rate = 0.995\n",
    "max_steps = 1000\n",
    "\n",
    "for step in range(max_steps):\n",
    "    index = np.random.randint(low=0,high=15)\n",
    "\n",
    "    if solution[index] == 0:\n",
    "        if w + weights[index] > 750:\n",
    "            pass\n",
    "        else:\n",
    "            solution[index] = 1\n",
    "            p += profits[index]\n",
    "            w += weights[index]\n",
    "    else:\n",
    "        if np.random.random() < np.exp(-1*profits[index]/T):\n",
    "            solution[index] = 0\n",
    "            p -= profits[index]\n",
    "            w -= weights[index]\n",
    "        else:\n",
    "            pass\n",
    "\n",
    "    p_step.append(p)\n",
    "    if p > max_profit:\n",
    "        max_profit = p\n",
    "        best_solution = solution.copy()\n",
    "    T *= decay_rate"
   ],
   "metadata": {
    "collapsed": false,
    "pycharm": {
     "name": "#%%\n"
    }
   }
  },
  {
   "cell_type": "code",
   "execution_count": 6,
   "outputs": [
    {
     "data": {
      "text/plain": "<Figure size 432x288 with 1 Axes>",
      "image/png": "[encoded data removed]"
     },
     "metadata": {
      "needs_background": "light"
     },
     "output_type": "display_data"
    }
   ],
   "source": [
    "plt.plot(p_step)\n",
    "plt.xlabel(\"Steps\")\n",
    "plt.ylabel(\"Total Profits\")\n",
    "plt.savefig(\"./figs/knapsack_SA\")"
   ],
   "metadata": {
    "collapsed": false,
    "pycharm": {
     "name": "#%%\n"
    }
   }
  },
  {
   "cell_type": "code",
   "execution_count": 7,
   "outputs": [
    {
     "name": "stdout",
     "output_type": "stream",
     "text": [
      "Best solution: [0 1 1 1 1 1 0 0 0 0 0 1 0 1 1]\n",
      "Maximum profit: 1440\n",
      "Total weights: 750\n"
     ]
    }
   ],
   "source": [
    "print(\"Best solution:\", best_solution)\n",
    "print(\"Maximum profit:\", max_profit)\n",
    "print(\"Total weights:\", best_solution.dot(weights))"
   ],
   "metadata": {
    "collapsed": false,
    "pycharm": {
     "name": "#%%\n"
    }
   }
  },
  {
   "cell_type": "markdown",
   "source": [
    "## Tabu"
   ],
   "metadata": {
    "collapsed": false,
    "pycharm": {
     "name": "#%% md\n"
    }
   }
  },
  {
   "cell_type": "code",
   "execution_count": 8,
   "outputs": [],
   "source": [
    "pwr = profits/weights   # profits weights ratio\n",
    "tabu = np.zeros(15, dtype=int)   # tabu list\n",
    "lifetime = 5\n",
    "max_steps = 100\n",
    "\n",
    "solution = np.zeros(15,dtype=int)\n",
    "p = 0\n",
    "p_step = [0]\n",
    "max_profit = 0\n",
    "best_solution = None\n",
    "w = 0\n",
    "\n",
    "for step in range(max_steps):\n",
    "    feasible =  ((w+weights)<=750) & (tabu==0) & (solution==0)  # whether 15 items are available\n",
    "    if feasible.any():\n",
    "        inds = feasible.nonzero()[0]    # index of available items\n",
    "        best = pwr[inds].argmax()   # find which item has maximum pwr\n",
    "        i = inds[best]  # get the index of the item\n",
    "        solution[i] = 1     # choose the item i\n",
    "        w += weights[i]\n",
    "        p += profits[i]\n",
    "    else:\n",
    "        candidate = (tabu==0) & (solution==1)   # whether 15 items can be dropped\n",
    "        inds = candidate.nonzero()[0]\n",
    "        best = pwr[inds].argmin()\n",
    "        i = inds[best]\n",
    "        solution[i] = 0\n",
    "        w -= weights[i]\n",
    "        p -= profits[i]\n",
    "    assert p==solution.dot(profits)\n",
    "    p_step.append(p)\n",
    "    if p > max_profit:\n",
    "        max_profit = p\n",
    "        best_solution = solution.copy()\n",
    "    tabu[tabu>0] -= 1\n",
    "    tabu[i] = lifetime"
   ],
   "metadata": {
    "collapsed": false,
    "pycharm": {
     "name": "#%%\n"
    }
   }
  },
  {
   "cell_type": "code",
   "execution_count": 9,
   "outputs": [
    {
     "data": {
      "text/plain": "<Figure size 432x288 with 1 Axes>",
      "image/png": "[encoded data removed]"
     },
     "metadata": {
      "needs_background": "light"
     },
     "output_type": "display_data"
    }
   ],
   "source": [
    "plt.plot(p_step)\n",
    "plt.xlabel(\"Steps\")\n",
    "plt.ylabel(\"Total Profits\")\n",
    "plt.savefig(\"./figs/knapsack_tabu\")"
   ],
   "metadata": {
    "collapsed": false,
    "pycharm": {
     "name": "#%%\n"
    }
   }
  },
  {
   "cell_type": "code",
   "execution_count": 10,
   "outputs": [
    {
     "name": "stdout",
     "output_type": "stream",
     "text": [
      "Best solution: [1 0 1 0 1 0 1 1 1 0 0 0 0 1 1]\n",
      "Maximum profit: 1458\n",
      "Total weights: 749\n"
     ]
    }
   ],
   "source": [
    "print(\"Best solution:\", best_solution)\n",
    "print(\"Maximum profit:\", max_profit)\n",
    "print(\"Total weights:\", best_solution.dot(weights))"
   ],
   "metadata": {
    "collapsed": false,
    "pycharm": {
     "name": "#%%\n"
    }
   }
  },
  {
   "cell_type": "code",
   "execution_count": 10,
   "outputs": [],
   "source": [],
   "metadata": {
    "collapsed": false,
    "pycharm": {
     "name": "#%%\n"
    }
   }
  }
 ],
 "metadata": {
  "kernelspec": {
   "display_name": "Python 3",
   "language": "python",
   "name": "python3"
  },
  "language_info": {
   "codemirror_mode": {
    "name": "ipython",
    "version": 2
   },
   "file_extension": ".py",
   "mimetype": "text/x-python",
   "name": "python",
   "nbconvert_exporter": "python",
   "pygments_lexer": "ipython2",
   "version": "2.7.6"
  }
 },
 "nbformat": 4,
 "nbformat_minor": 0
}